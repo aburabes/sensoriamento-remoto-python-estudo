{
 "cells": [
  {
   "cell_type": "code",
   "execution_count": 31,
   "id": "f73ce42e",
   "metadata": {},
   "outputs": [],
   "source": [
    "import numpy as np"
   ]
  },
  {
   "cell_type": "markdown",
   "id": "c1fe1b6d",
   "metadata": {},
   "source": [
    "Definição de dois vetores colunas"
   ]
  },
  {
   "cell_type": "code",
   "execution_count": 36,
   "id": "6ea5fb39",
   "metadata": {},
   "outputs": [
    {
     "name": "stdout",
     "output_type": "stream",
     "text": [
      "[[1]\n",
      " [2]]\n",
      "[[1]\n",
      " [2]]\n"
     ]
    }
   ],
   "source": [
    "x = np.asmatrix([[1],[2]])\n",
    "y = np.asmatrix ([[1],[2]])\n",
    "\n",
    "\n",
    "print (x)\n",
    "print (y)"
   ]
  },
  {
   "cell_type": "markdown",
   "id": "885b0669",
   "metadata": {},
   "source": [
    "Soma de dois vetores colunas"
   ]
  },
  {
   "cell_type": "code",
   "execution_count": 37,
   "id": "25166c4b",
   "metadata": {},
   "outputs": [
    {
     "name": "stdout",
     "output_type": "stream",
     "text": [
      "[[2]\n",
      " [4]]\n"
     ]
    }
   ],
   "source": [
    "print (x+y)"
   ]
  },
  {
   "cell_type": "markdown",
   "id": "b280b188",
   "metadata": {},
   "source": [
    "Produto interno entre dois vetores"
   ]
  },
  {
   "cell_type": "code",
   "execution_count": 42,
   "id": "fcf88102",
   "metadata": {},
   "outputs": [
    {
     "name": "stdout",
     "output_type": "stream",
     "text": [
      "[[1 2]\n",
      " [2 4]]\n"
     ]
    }
   ],
   "source": [
    "z = np.asmatrix([[1],[2]])\n",
    "w = np.asmatrix ([[1,2]])\n",
    "\n",
    "print (z*w)"
   ]
  },
  {
   "cell_type": "markdown",
   "id": "0d833afd",
   "metadata": {},
   "source": [
    "Comprimento/Norma de um vetor"
   ]
  },
  {
   "cell_type": "markdown",
   "id": "bcbad3e8",
   "metadata": {},
   "source": []
  },
  {
   "cell_type": "code",
   "execution_count": null,
   "id": "595a40aa",
   "metadata": {},
   "outputs": [],
   "source": []
  },
  {
   "cell_type": "markdown",
   "id": "21e459c9",
   "metadata": {},
   "source": [
    "Matriz 2x2"
   ]
  },
  {
   "cell_type": "code",
   "execution_count": null,
   "id": "3db08fd4",
   "metadata": {},
   "outputs": [
    {
     "name": "stdout",
     "output_type": "stream",
     "text": [
      "[[1 2]\n",
      " [3 4]]\n",
      "[[1]\n",
      " [2]]\n",
      "[[ 5]\n",
      " [11]]\n"
     ]
    }
   ],
   "source": [
    "A = np.asmatrix([[1,2],[3,4]])\n",
    "B = np.asmatrix([[1],[2]])\n",
    "print(A)\n",
    "print(B)\n",
    "\n",
    "print (A*B)"
   ]
  },
  {
   "cell_type": "code",
   "execution_count": 54,
   "id": "e2511a5f",
   "metadata": {},
   "outputs": [
    {
     "name": "stdout",
     "output_type": "stream",
     "text": [
      "[[1 2]\n",
      " [3 4]]\n",
      "[[1 2]\n",
      " [3 4]]\n",
      "[[ 7 10]\n",
      " [15 22]]\n"
     ]
    }
   ],
   "source": [
    "A = np.asmatrix([[1,2],[3,4]])\n",
    "B = np.asmatrix([[1,2],[3,4]])\n",
    "print(A)\n",
    "print(B)\n",
    "\n",
    "print (A*B)"
   ]
  },
  {
   "cell_type": "markdown",
   "id": "c80d9daf",
   "metadata": {},
   "source": [
    "Matriz Quadrada"
   ]
  },
  {
   "cell_type": "code",
   "execution_count": 56,
   "id": "793fe963",
   "metadata": {},
   "outputs": [
    {
     "name": "stdout",
     "output_type": "stream",
     "text": [
      "-2.0000000000000004\n"
     ]
    }
   ],
   "source": [
    "determinante = np.linalg.det(A)\n",
    "print (determinante)"
   ]
  },
  {
   "cell_type": "code",
   "execution_count": 71,
   "id": "66298120",
   "metadata": {},
   "outputs": [
    {
     "name": "stdout",
     "output_type": "stream",
     "text": [
      "[[-2.   1. ]\n",
      " [ 1.5 -0.5]]\n"
     ]
    }
   ],
   "source": [
    "I = np.asmatrix([[1,0],[0,1]])\n",
    "inversa = (A.I)\n",
    "print (inversa)"
   ]
  },
  {
   "cell_type": "code",
   "execution_count": 67,
   "id": "8cf5dc2d",
   "metadata": {},
   "outputs": [
    {
     "name": "stdout",
     "output_type": "stream",
     "text": [
      "[[1.00000000e+00 0.00000000e+00]\n",
      " [1.11022302e-16 1.00000000e+00]]\n"
     ]
    }
   ],
   "source": [
    "print(A.I*A)"
   ]
  },
  {
   "cell_type": "code",
   "execution_count": 3,
   "id": "09477c99",
   "metadata": {},
   "outputs": [],
   "source": [
    "from osgeo import gdal"
   ]
  }
 ],
 "metadata": {
  "kernelspec": {
   "display_name": "Python 3",
   "language": "python",
   "name": "python3"
  },
  "language_info": {
   "codemirror_mode": {
    "name": "ipython",
    "version": 3
   },
   "file_extension": ".py",
   "mimetype": "text/x-python",
   "name": "python",
   "nbconvert_exporter": "python",
   "pygments_lexer": "ipython3",
   "version": "3.13.5"
  }
 },
 "nbformat": 4,
 "nbformat_minor": 5
}
